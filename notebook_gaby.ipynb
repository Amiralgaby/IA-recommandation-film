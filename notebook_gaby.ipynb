{
 "cells": [
  {
   "cell_type": "code",
   "execution_count": 2,
   "metadata": {},
   "outputs": [],
   "source": [
    "#!/usr/bin/env python\n",
    "######## MÉMO pour moi\n",
    " # But: faire des recommandations de films à un utilisateur en se basant sur son historique et ses préférences.\n",
    "    \n",
    " # On donne un utilisateur en entrée\n",
    "#----\n",
    " # On regroupe ceux qu'il a noté par le Genre de film ave la moyenne de score de chaque Genre\n",
    "\n",
    "#  | Genre | Score |\n",
    "#|1|\n",
    "#|2|\n",
    "#|3|\n",
    "\n",
    " # Le prog va trié la liste des films qu'il n'a pas vu par le Genre ayant le meilleur Score\n",
    "#----- \n",
    "# En sortie nous avons une liste de films qu'il n'a pas noté et étant de la catégorie qu'il aime le plus\n",
    "\n",
    "#### IMPORT #############\n",
    "\n",
    "import numpy as np\n",
    "import pandas as pd\n",
    "import sys"
   ]
  },
  {
   "cell_type": "code",
   "execution_count": 3,
   "metadata": {},
   "outputs": [],
   "source": [
    "##### DEF DE FONCTIONS #######\n",
    "\n",
    "def print_list(liste):\n",
    "\tfor i in liste:\n",
    "\t\tprint(i)\n",
    "\n",
    "\n",
    "def print_list_of_list(liste):\n",
    "\tfor i in liste:\n",
    "\t\tprint_list(i)\n",
    "\n",
    "def liste_TO_dataFrame(liste,columms):\n",
    "\treturn liste_TO_dataFrame2(liste,columms)\n",
    "\n",
    "def liste_TO_dataFrame2(liste,columms):\n",
    "    assert len(columms) == len(liste[0])\n",
    "    colList = [ [] for _ in columms]\n",
    "    for i in liste:\n",
    "        for j in range(0,len(columms)):\n",
    "            colList[j].append(i[j])\n",
    "    d = {}\n",
    "    for i in range(0,len(colList)):\n",
    "        d[columms[i]] = pd.Series(colList[i])\n",
    "    df = pd.DataFrame(d)\n",
    "    return df\n",
    "\n",
    "def obtenirListe(fichierAOuvrir):\n",
    "    try:\n",
    "        print(\"[INFO]Ouverture du fichier\",fichierAOuvrir,end='\\n')\n",
    "        f = open(fichierAOuvrir, 'r')\n",
    "        # là ça fait une liste de liste\n",
    "        l = [ list(line.strip('\\n').split('::')) for line in f ]\n",
    "    except Exception as e:\n",
    "        print(\"le problème vient du fichier : \",fichierAOuvrir)\n",
    "        raise e\n",
    "    else:\n",
    "        print(\"[INFO]Réussi\",end='\\n')\n",
    "    return l\n",
    "\n",
    "def recupIndexFilmReco(tabse):\n",
    "\tmaxi=0\n",
    "\tindex=0\n",
    "\tfor i in range(0,len(tabse)):\n",
    "\t\tif tabse[i]>maxi:\n",
    "\t\t\tmaxi=tabse[i]\n",
    "\t\t\tindex=i\n",
    "\treturn index\n"
   ]
  },
  {
   "cell_type": "code",
   "execution_count": 4,
   "metadata": {},
   "outputs": [
    {
     "name": "stdout",
     "output_type": "stream",
     "text": [
      "[INFO]Ouverture du fichier ./Data/ratings.dat\n",
      "[INFO]Réussi\n",
      "[INFO]Ouverture du fichier ./Data/movies.dat\n",
      "[INFO]Réussi\n",
      "[INFO]Ouverture du fichier ./Data/users.dat\n",
      "[INFO]Réussi\n"
     ]
    }
   ],
   "source": [
    "pathToRoot = \"./\"\n",
    "#### DATA #####\n",
    "\n",
    "\t###### Pour les ratings \n",
    "\n",
    "lRatings = obtenirListe(pathToRoot+'Data/ratings.dat')\n",
    "colRatings = ['UserID','MovieID','Rating','Timestamp']\n",
    "\n",
    "dfRatings = liste_TO_dataFrame2(lRatings,colRatings)\n",
    "#print(dfRatings)\n",
    "\n",
    "\t####### Pour les movies\n",
    "\n",
    "lMovies = obtenirListe(pathToRoot+'Data/movies.dat')\n",
    "colMovies = ['MovieID','Title','Genres']\n",
    "\n",
    "dfMovies = liste_TO_dataFrame2(lMovies,colMovies)\n",
    "#print(dfMovies)\n",
    "\n",
    "\t######## Pour les users\n",
    "\n",
    "lMovies = obtenirListe(pathToRoot+'Data/users.dat')\n",
    "colMovies = ['UserID','Gender','Age','Occupation','Zip-code']\n",
    "\n",
    "dfUser = liste_TO_dataFrame2(lMovies,colMovies)\n",
    "#print(dfUser)"
   ]
  },
  {
   "cell_type": "code",
   "execution_count": 5,
   "metadata": {},
   "outputs": [
    {
     "name": "stdout",
     "output_type": "stream",
     "text": [
      "donne moi un utilisateur par son id : 9\n"
     ]
    }
   ],
   "source": [
    "idUser = str(input(\"donne moi un utilisateur par son id : \"))"
   ]
  },
  {
   "cell_type": "code",
   "execution_count": 6,
   "metadata": {},
   "outputs": [],
   "source": [
    " # On donne un utilisateur en entrée\n",
    "#----\n",
    " # On regroupe ceux qu'il a noté par le Genre de film avec la moyenne de score de chaque Genre\n",
    "\n",
    "#  | Genre | Score |\n",
    "#|1|\n",
    "#|2|\n",
    "#|3|\n",
    "\n",
    " # Le prog va trié la liste des films qu'il n'a pas vu par le Genre ayant le meilleur Score\n",
    "#----- \n",
    "# En sortie nous avons une liste de films qu'il n'a pas noté et étant de la catégorie qu'il aime le plus\n",
    "\n",
    "# Créer une nouvelle fonction qui détermine si la valeur en paramètre est manquante:\n",
    "#def num_missing(x):\n",
    "#    return sum(x.isnull())\n",
    "\n",
    "# On applique cette fonction pour chaque colonne:\n",
    "#print(\"Valeurs manquantes par colonne:\")\n",
    "#print(data.apply(num_missing, axis=0)) #axis=0 définit que la fonction sera bien appliquée sur chaque colonne\n",
    "\n",
    "# Puis application pour chaque ligne:\n",
    "#print(\"\\nValeurs manquantes par ligne:\")\n",
    "#print(data.apply(num_missing, axis=1).head()) #axis=1 définit que la fonction sera bien appliquée sur chaque ligne\n"
   ]
  },
  {
   "cell_type": "code",
   "execution_count": 8,
   "metadata": {
    "scrolled": true
   },
   "outputs": [
    {
     "name": "stdout",
     "output_type": "stream",
     "text": [
      "<class 'pandas.core.series.Series'>\n",
      "<class 'pandas.core.frame.DataFrame'>\n",
      "    UserID MovieID Rating\n",
      "693      9    2268      4\n",
      "694      9    1466      4\n",
      "695      9    1393      3\n",
      "696      9     861      2\n",
      "697      9    1682      4\n",
      "..     ...     ...    ...\n",
      "794      9    2762      4\n",
      "795      9    1961      5\n",
      "796      9    2692      4\n",
      "797      9    1310      3\n",
      "798      9     428      3\n",
      "\n",
      "[106 rows x 3 columns]\n"
     ]
    }
   ],
   "source": [
    "colGenreScore = ['Genre','Score']\n",
    "\n",
    "ratingsOfUser = dfRatings.loc[dfRatings['UserID'] == idUser, colRatings[:3]]\n",
    "print(type(ratingsOfUser['MovieID']))\n",
    "#moviesOfUser = dfMovies.loc[dfMovies['Movies'] == ratingsOfUser['MoviesID'][i]]\n",
    "print(type(ratingsOfUser))\n",
    "print(ratingsOfUser)"
   ]
  },
  {
   "cell_type": "code",
   "execution_count": 42,
   "metadata": {},
   "outputs": [
    {
     "name": "stdout",
     "output_type": "stream",
     "text": [
      "     MovieID                        Genres\n",
      "0          1   Animation|Children's|Comedy\n",
      "1          2  Adventure|Children's|Fantasy\n",
      "2          3                Comedy|Romance\n",
      "3          4                  Comedy|Drama\n",
      "4          5                        Comedy\n",
      "...      ...                           ...\n",
      "3878    3948                        Comedy\n",
      "3879    3949                         Drama\n",
      "3880    3950                         Drama\n",
      "3881    3951                         Drama\n",
      "3882    3952                Drama|Thriller\n",
      "\n",
      "[3883 rows x 2 columns]\n",
      "    MovieID Rating\n",
      "693    2268      4\n",
      "694    1466      4\n",
      "695    1393      3\n",
      "696     861      2\n",
      "697    1682      4\n",
      "..      ...    ...\n",
      "794    2762      4\n",
      "795    1961      5\n",
      "796    2692      4\n",
      "797    1310      3\n",
      "798     428      3\n",
      "\n",
      "[106 rows x 2 columns]\n",
      "<pandas.core.groupby.generic.DataFrameGroupBy object at 0x7fa7d0218220>\n"
     ]
    }
   ],
   "source": [
    "# Pour chque ligne prendre le film, joindre avec dfMovies\n",
    "# grouper par Genre de Movies\n",
    "#print(dfMovies)\n",
    "dfTEST = dfMovies\n",
    "dfTEST2 = ratingsOfUser\n",
    "\n",
    "# del dfTEST['Title']\n",
    "print(dfTEST)\n",
    "\n",
    "#del dfTEST2['UserID']\n",
    "print(dfTEST2)\n",
    "\n",
    "dfGenres = dfMovies.groupby(['MovieID'])\n",
    "print(dfGenres)"
   ]
  },
  {
   "cell_type": "code",
   "execution_count": 66,
   "metadata": {},
   "outputs": [],
   "source": [
    "result = pd.concat([dfTEST, dfTEST2], axis=1, join='inner')\n",
    "del result['MovieID']"
   ]
  },
  {
   "cell_type": "code",
   "execution_count": 67,
   "metadata": {},
   "outputs": [
    {
     "name": "stdout",
     "output_type": "stream",
     "text": [
      "                   Genres Rating\n",
      "693                 Drama      4\n",
      "694                 Drama      4\n",
      "695      Action|Adventure      3\n",
      "696                Comedy      2\n",
      "697                 Drama      4\n",
      "..                    ...    ...\n",
      "794        Comedy|Romance      4\n",
      "795                 Drama      5\n",
      "796                 Drama      4\n",
      "797        Comedy|Romance      3\n",
      "798  Adventure|Children's      3\n",
      "\n",
      "[106 rows x 2 columns]\n"
     ]
    }
   ],
   "source": [
    "print(result)"
   ]
  },
  {
   "cell_type": "code",
   "execution_count": 69,
   "metadata": {},
   "outputs": [],
   "source": [
    "resultFinal = result.groupby(by='Genres')"
   ]
  },
  {
   "cell_type": "code",
   "execution_count": 70,
   "metadata": {},
   "outputs": [
    {
     "name": "stdout",
     "output_type": "stream",
     "text": [
      "<pandas.core.groupby.generic.DataFrameGroupBy object at 0x7fa79660d970>\n"
     ]
    }
   ],
   "source": [
    "print(resultFinal)"
   ]
  },
  {
   "cell_type": "code",
   "execution_count": null,
   "metadata": {},
   "outputs": [],
   "source": []
  }
 ],
 "metadata": {
  "kernelspec": {
   "display_name": "Python 3",
   "language": "python",
   "name": "python3"
  },
  "language_info": {
   "codemirror_mode": {
    "name": "ipython",
    "version": 3
   },
   "file_extension": ".py",
   "mimetype": "text/x-python",
   "name": "python",
   "nbconvert_exporter": "python",
   "pygments_lexer": "ipython3",
   "version": "3.8.5"
  }
 },
 "nbformat": 4,
 "nbformat_minor": 4
}
