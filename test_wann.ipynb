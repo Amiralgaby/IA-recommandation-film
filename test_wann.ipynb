{
 "cells": [
  {
   "cell_type": "code",
   "execution_count": 105,
   "metadata": {},
   "outputs": [
    {
     "ename": "NameError",
     "evalue": "name 'NotebookApp' is not defined",
     "output_type": "error",
     "traceback": [
      "\u001b[1;31m---------------------------------------------------------------------------\u001b[0m",
      "\u001b[1;31mNameError\u001b[0m                                 Traceback (most recent call last)",
      "\u001b[1;32m<ipython-input-105-772b1f9ba696>\u001b[0m in \u001b[0;36m<module>\u001b[1;34m\u001b[0m\n\u001b[0;32m      1\u001b[0m \u001b[1;31m#!/usr/bin/env python\u001b[0m\u001b[1;33m\u001b[0m\u001b[1;33m\u001b[0m\u001b[1;33m\u001b[0m\u001b[0m\n\u001b[1;32m----> 2\u001b[1;33m \u001b[0mNotebookApp\u001b[0m\u001b[1;33m.\u001b[0m\u001b[0miopub_data_rate_limit\u001b[0m\u001b[1;33m=\u001b[0m\u001b[1;36m10000000.0\u001b[0m\u001b[1;33m\u001b[0m\u001b[1;33m\u001b[0m\u001b[0m\n\u001b[0m\u001b[0;32m      3\u001b[0m \u001b[0mNotebookApp\u001b[0m\u001b[1;33m.\u001b[0m\u001b[0mrate_limit_window\u001b[0m\u001b[1;33m=\u001b[0m\u001b[1;36m5.0\u001b[0m\u001b[1;33m\u001b[0m\u001b[1;33m\u001b[0m\u001b[0m\n\u001b[0;32m      4\u001b[0m \u001b[1;33m\u001b[0m\u001b[0m\n\u001b[0;32m      5\u001b[0m \u001b[1;31m#### IMPORT #############\u001b[0m\u001b[1;33m\u001b[0m\u001b[1;33m\u001b[0m\u001b[1;33m\u001b[0m\u001b[0m\n",
      "\u001b[1;31mNameError\u001b[0m: name 'NotebookApp' is not defined"
     ]
    }
   ],
   "source": [
    "#!/usr/bin/env python\n",
    "\n",
    "\n",
    "#### IMPORT #############\n",
    "\n",
    "import numpy as np\n",
    "import pandas as pd\n",
    "import sys"
   ]
  },
  {
   "cell_type": "code",
   "execution_count": 68,
   "metadata": {},
   "outputs": [],
   "source": [
    "def print_list(liste):\n",
    "\tfor i in liste:\n",
    "\t\tprint(i)\n",
    "\n",
    "\n",
    "def print_list_of_list(liste):\n",
    "\tfor i in liste:\n",
    "\t\tprint_list(i)\n",
    "\n",
    "\n",
    "def liste_TO_dataFrame(liste):\n",
    "\tUserID = list()\n",
    "\tMovieID = list()\n",
    "\tRating = list()\n",
    "\tTimestamp = list()\n",
    "\tfor i in liste:\n",
    "\t\t# i est une liste\n",
    "\t\tUserID.append(i[0])\n",
    "\t\tMovieID.append(i[1])\n",
    "\t\tRating.append(i[2])\n",
    "\t\tTimestamp.append(i[3])\n",
    "\td = {\n",
    "\t\t'UserID': pd.Series(UserID),\n",
    "\t\t'MovieID': pd.Series(MovieID),\n",
    "\t\t'Rating' : pd.Series(Rating),\n",
    "\t\t'Timestamp' : pd.Series(Timestamp)\n",
    "\t\t}\n",
    "\tdf = pd.DataFrame(d)\n",
    "\treturn df\n",
    "\n",
    "\n",
    "def liste_TO_dataFrame2(liste,columms):\n",
    "    assert len(columms) == len(liste[0])\n",
    "    colList = [ [] for _ in columms]\n",
    "    for i in liste:\n",
    "        for j in range(0,len(columms)):\n",
    "            colList[j].append(i[j])\n",
    "    d = {}\n",
    "    for i in range(0,len(colList)):\n",
    "        d[columms[i]] = pd.Series(colList[i])\n",
    "    df = pd.DataFrame(d)\n",
    "    return df\n",
    "\n",
    "def obtenirListe(fichierAOuvrir):\n",
    "    try:\n",
    "        print(\"[INFO]Ouverture du fichier\",fichierAOuvrir,end='\\n')\n",
    "        f = open(fichierAOuvrir, 'r')\n",
    "        # là ça fait une liste de liste\n",
    "        l = [ list(line.strip('\\n').split('::')) for line in f ]\n",
    "    except Exception as e:\n",
    "        print(\"le problème vient du fichier : \",file)\n",
    "        raise e\n",
    "    else:\n",
    "        print(\"[INFO]Réussi\",end='\\n')\n",
    "    return l\n",
    "\n",
    "def obtenirScoreMoyUser(user):\n",
    "    sul=[]\n",
    "    for i in dfRatings.loc[dfRatings['UserID'] == str(user)].index.values:\n",
    "        sul.append(dfRatings.loc[i,'Rating'])\n",
    "    somme=sum((int(i) for i in sul))\n",
    "    long=len(sul)\n",
    "    return somme/long"
   ]
  },
  {
   "cell_type": "code",
   "execution_count": 3,
   "metadata": {},
   "outputs": [
    {
     "name": "stdout",
     "output_type": "stream",
     "text": [
      "[INFO]Ouverture du fichier Data/ratings.dat\n",
      "[INFO]Réussi\n",
      "        UserID MovieID Rating  Timestamp\n",
      "0            1    1193      5  978300760\n",
      "1            1     661      3  978302109\n",
      "2            1     914      3  978301968\n",
      "3            1    3408      4  978300275\n",
      "4            1    2355      5  978824291\n",
      "...        ...     ...    ...        ...\n",
      "1000204   6040    1091      1  956716541\n",
      "1000205   6040    1094      5  956704887\n",
      "1000206   6040     562      5  956704746\n",
      "1000207   6040    1096      4  956715648\n",
      "1000208   6040    1097      4  956715569\n",
      "\n",
      "[1000209 rows x 4 columns]\n",
      "[INFO]Ouverture du fichier Data/movies.dat\n",
      "[INFO]Réussi\n",
      "     MovieID                               Title                        Genres\n",
      "0          1                    Toy Story (1995)   Animation|Children's|Comedy\n",
      "1          2                      Jumanji (1995)  Adventure|Children's|Fantasy\n",
      "2          3             Grumpier Old Men (1995)                Comedy|Romance\n",
      "3          4            Waiting to Exhale (1995)                  Comedy|Drama\n",
      "4          5  Father of the Bride Part II (1995)                        Comedy\n",
      "...      ...                                 ...                           ...\n",
      "3878    3948             Meet the Parents (2000)                        Comedy\n",
      "3879    3949          Requiem for a Dream (2000)                         Drama\n",
      "3880    3950                    Tigerland (2000)                         Drama\n",
      "3881    3951             Two Family House (2000)                         Drama\n",
      "3882    3952               Contender, The (2000)                Drama|Thriller\n",
      "\n",
      "[3883 rows x 3 columns]\n",
      "[INFO]Ouverture du fichier Data/users.dat\n",
      "[INFO]Réussi\n",
      "     UserID Gender Age Occupation Zip-code\n",
      "0         1      F   1         10    48067\n",
      "1         2      M  56         16    70072\n",
      "2         3      M  25         15    55117\n",
      "3         4      M  45          7    02460\n",
      "4         5      M  25         20    55455\n",
      "...     ...    ...  ..        ...      ...\n",
      "6035   6036      F  25         15    32603\n",
      "6036   6037      F  45          1    76006\n",
      "6037   6038      F  56          1    14706\n",
      "6038   6039      F  45          0    01060\n",
      "6039   6040      M  25          6    11106\n",
      "\n",
      "[6040 rows x 5 columns]\n"
     ]
    }
   ],
   "source": [
    "########## SCRIPT RUN ########\n",
    "\n",
    "\t###### Pour les ratings \n",
    "\n",
    "col = ['UserID','MovieID','Rating','Timestamp']\n",
    "fichierAOuvir = 'Data/ratings.dat'\n",
    "l = obtenirListe('Data/ratings.dat')\n",
    "dfRatings = liste_TO_dataFrame2(l,col)\n",
    "print(dfRatings)\n",
    "\n",
    "\t####### Pour les movies\n",
    "\n",
    "l = obtenirListe('Data/movies.dat')\n",
    "col = ['MovieID','Title','Genres']\n",
    "\n",
    "dfMovies = liste_TO_dataFrame2(l,col)\n",
    "print(dfMovies)\n",
    "\n",
    "\n",
    "\n",
    "\t######## Pour les users\n",
    "\n",
    "l = obtenirListe('Data/users.dat')\n",
    "col = ['UserID','Gender','Age','Occupation','Zip-code']\n",
    "dfUser = liste_TO_dataFrame2(l,col)\n",
    "print(dfUser)"
   ]
  },
  {
   "cell_type": "code",
   "execution_count": 74,
   "metadata": {},
   "outputs": [
    {
     "name": "stdout",
     "output_type": "stream",
     "text": [
      "2.909090909090909\n"
     ]
    }
   ],
   "source": [
    "user=21\n",
    "su=obtenirScoreMoyUser(user)\n",
    "print(str(su))"
   ]
  },
  {
   "cell_type": "code",
   "execution_count": 103,
   "metadata": {},
   "outputs": [],
   "source": [
    "for i in dfRatings.index.values:\n",
    "    sul.append(dfRatings.loc[i,'Rating'])\n",
    "somme=sum((int(i) for i in sul))\n",
    "long=len(sul)\n",
    "sug=somme/long"
   ]
  },
  {
   "cell_type": "code",
   "execution_count": 104,
   "metadata": {},
   "outputs": [
    {
     "name": "stdout",
     "output_type": "stream",
     "text": [
      "20.279851934219387\n"
     ]
    }
   ],
   "source": [
    "print(str(sug))"
   ]
  },
  {
   "cell_type": "code",
   "execution_count": 82,
   "metadata": {},
   "outputs": [
    {
     "name": "stdout",
     "output_type": "stream",
     "text": [
      "-0.6724839561781151\n"
     ]
    }
   ],
   "source": [
    "sudiff=su-sug\n",
    "print(str(sudiff))"
   ]
  },
  {
   "cell_type": "code",
   "execution_count": 100,
   "metadata": {},
   "outputs": [
    {
     "name": "stderr",
     "output_type": "stream",
     "text": [
      "IOPub data rate exceeded.\n",
      "The notebook server will temporarily stop sending output\n",
      "to the client in order to avoid crashing it.\n",
      "To change this limit, set the config variable\n",
      "`--NotebookApp.iopub_data_rate_limit`.\n",
      "\n",
      "Current values:\n",
      "NotebookApp.iopub_data_rate_limit=1000000.0 (bytes/sec)\n",
      "NotebookApp.rate_limit_window=3.0 (secs)\n",
      "\n"
     ]
    }
   ],
   "source": [
    "for i in dfMovies.index.values:\n",
    "    sul.append(dfMovies.loc[i,'MovieID'])\n",
    "print(sul)\n",
    "lm=np.array([(int(i) for i in sul),0])\n"
   ]
  },
  {
   "cell_type": "code",
   "execution_count": null,
   "metadata": {},
   "outputs": [],
   "source": []
  }
 ],
 "metadata": {
  "kernelspec": {
   "display_name": "Python 3",
   "language": "python",
   "name": "python3"
  },
  "language_info": {
   "codemirror_mode": {
    "name": "ipython",
    "version": 3
   },
   "file_extension": ".py",
   "mimetype": "text/x-python",
   "name": "python",
   "nbconvert_exporter": "python",
   "pygments_lexer": "ipython3",
   "version": "3.8.3"
  }
 },
 "nbformat": 4,
 "nbformat_minor": 4
}
